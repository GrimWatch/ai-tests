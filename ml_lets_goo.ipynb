{
  "cells": [
    {
      "cell_type": "markdown",
      "metadata": {
        "colab_type": "text",
        "id": "view-in-github"
      },
      "source": [
        "<a href=\"https://colab.research.google.com/github/GrimWatch/ai-tests/blob/main/ml_lets_goo.ipynb\" target=\"_parent\"><img src=\"https://colab.research.google.com/assets/colab-badge.svg\" alt=\"Open In Colab\"/></a>"
      ]
    },
    {
      "cell_type": "code",
      "execution_count": 1,
      "metadata": {
        "id": "X8TlUcywD7MX"
      },
      "outputs": [],
      "source": [
        "import numpy as np\n",
        "import pandas as pd\n",
        "import matplotlib.pyplot as plt\n",
        "import seaborn as sns\n",
        "import mpl_toolkits\n",
        "%matplotlib inline\n",
        "#commit by grim"
      ]
    },
    {
      "cell_type": "code",
      "execution_count": 17,
      "metadata": {
        "id": "-rAeBmdBEfJo"
      },
      "outputs": [],
      "source": [
        "url = \"https://raw.githubusercontent.com/GrimWatch/ai-tests/main/housing.csv\"\n",
        "data = pd.read_csv(url)\n",
        "#data= data0.head(5)\n",
        "data['index'] = data.index"
      ]
    },
    {
      "cell_type": "code",
      "execution_count": 18,
      "metadata": {
        "colab": {
          "base_uri": "https://localhost:8080/",
          "height": 488
        },
        "id": "K4AB5l1Jm3ii",
        "outputId": "7c16c276-7c4d-47a9-b512-84f1c816a678"
      },
      "outputs": [],
      "source": [
        "data = data.dropna()"
      ]
    },
    {
      "cell_type": "code",
      "execution_count": 19,
      "metadata": {
        "colab": {
          "base_uri": "https://localhost:8080/",
          "height": 270
        },
        "id": "Px027DCSE30I",
        "outputId": "3d72d936-0feb-4396-ae89-434abd96b5ec"
      },
      "outputs": [],
      "source": [
        "\n",
        "data = data.head(4000)"
      ]
    },
    {
      "cell_type": "code",
      "execution_count": 38,
      "metadata": {
        "colab": {
          "base_uri": "https://localhost:8080/"
        },
        "id": "58H_pAmjFGdO",
        "outputId": "a82d9921-18c7-4c36-ffe5-11a9c5f132a9"
      },
      "outputs": [
        {
          "name": "stdout",
          "output_type": "stream",
          "text": [
            "280.0     55\n",
            "331.0     51\n",
            "345.0     50\n",
            "393.0     49\n",
            "343.0     49\n",
            "          ..\n",
            "2205.0     1\n",
            "1448.0     1\n",
            "1691.0     1\n",
            "2537.0     1\n",
            "2546.0     1\n",
            "Name: total_bedrooms, Length: 1923, dtype: int64\n"
          ]
        }
      ],
      "source": [
        "d = data['total_bedrooms'].value_counts()\n",
        "print(d)\n"
      ]
    },
    {
      "cell_type": "code",
      "execution_count": 13,
      "metadata": {
        "colab": {
          "base_uri": "https://localhost:8080/",
          "height": 300
        },
        "id": "YHOhccrCV6WY",
        "outputId": "6840fd41-08b3-4f2a-ed95-8ab99bf8c0f1"
      },
      "outputs": [
        {
          "data": {
            "image/png": "[encoded data removed]",
            "text/plain": [
              "<Figure size 360x360 with 3 Axes>"
            ]
          },
          "metadata": {
            "needs_background": "light"
          },
          "output_type": "display_data"
        },
        {
          "data": {
            "text/plain": [
              "<function seaborn.utils.despine(fig=None, ax=None, top=True, right=True, left=False, bottom=False, offset=None, trim=False)>"
            ]
          },
          "execution_count": 13,
          "metadata": {},
          "output_type": "execute_result"
        }
      ],
      "source": [
        "sns.jointplot(x=data.ocean_proximity.values, y=data.median_house_value.values, height=5)\n",
        "plt.ylabel(\"price\")\n",
        "\n",
        "plt.xlabel(\"ocean\")\n",
        "plt.show()\n",
        "sns.despine"
      ]
    },
    {
      "cell_type": "code",
      "execution_count": 20,
      "metadata": {
        "id": "oWUAODrIeXkt"
      },
      "outputs": [],
      "source": [
        "labels = data['median_house_value']\n",
        "conv_ocean = [3 if values == \"<1H OCEAN\" else 2 if values == \"INLAND\" \n",
        "              else 1 if values == \"NEAR OCEAN\" \n",
        "              else 0 for values in data.ocean_proximity ]\n",
        "data['ocean_proximity'] = conv_ocean\n",
        "train1 = data.drop(['index','median_house_value'],axis =1)"
      ]
    },
    {
      "cell_type": "code",
      "execution_count": 21,
      "metadata": {
        "id": "wFdoaX2DdTe1"
      },
      "outputs": [],
      "source": [
        "from sklearn.model_selection import train_test_split"
      ]
    },
    {
      "cell_type": "code",
      "execution_count": 22,
      "metadata": {
        "id": "hYRR2jr2ePLc"
      },
      "outputs": [],
      "source": [
        "x_train , x_test , y_train , y_test = train_test_split(train1 , labels ,test_size = 0.10, random_state = 3)"
      ]
    },
    {
      "cell_type": "code",
      "execution_count": 23,
      "metadata": {
        "id": "LUm0DLSFrGo-"
      },
      "outputs": [],
      "source": [
        "from sklearn.linear_model import LinearRegression\n",
        "reg = LinearRegression()"
      ]
    },
    {
      "cell_type": "code",
      "execution_count": 24,
      "metadata": {
        "colab": {
          "base_uri": "https://localhost:8080/",
          "height": 575
        },
        "id": "wyRSeugKfrz-",
        "outputId": "40edf2da-5ea7-41d1-956c-72cdecbdbcc6"
      },
      "outputs": [
        {
          "data": {
            "text/plain": [
              "LinearRegression()"
            ]
          },
          "execution_count": 24,
          "metadata": {},
          "output_type": "execute_result"
        }
      ],
      "source": [
        "reg.fit(x_train,y_train)"
      ]
    },
    {
      "cell_type": "code",
      "execution_count": 25,
      "metadata": {},
      "outputs": [
        {
          "data": {
            "text/plain": [
              "0.760303680204794"
            ]
          },
          "execution_count": 25,
          "metadata": {},
          "output_type": "execute_result"
        }
      ],
      "source": [
        "reg.score(x_test,y_test)"
      ]
    },
    {
      "cell_type": "code",
      "execution_count": 27,
      "metadata": {
        "id": "DMrhm_foXwkB"
      },
      "outputs": [],
      "source": [
        "from sklearn import ensemble"
      ]
    },
    {
      "cell_type": "code",
      "execution_count": 32,
      "metadata": {
        "id": "do_50QizX5Ym"
      },
      "outputs": [],
      "source": [
        "clf = ensemble.GradientBoostingRegressor(n_estimators = 200 , max_depth = 5,\n",
        "      min_samples_split =2, learning_rate = 0.1 , loss = 'squared_error')"
      ]
    },
    {
      "cell_type": "code",
      "execution_count": 33,
      "metadata": {
        "colab": {
          "base_uri": "https://localhost:8080/",
          "height": 329
        },
        "id": "ZC36blTHqLef",
        "outputId": "2f449c37-6884-4d3c-8fa9-37708b014f37"
      },
      "outputs": [
        {
          "data": {
            "text/plain": [
              "GradientBoostingRegressor(max_depth=5, n_estimators=200)"
            ]
          },
          "execution_count": 33,
          "metadata": {},
          "output_type": "execute_result"
        }
      ],
      "source": [
        "clf.fit(x_train,y_train)"
      ]
    },
    {
      "cell_type": "code",
      "execution_count": 34,
      "metadata": {},
      "outputs": [
        {
          "data": {
            "text/plain": [
              "0.9038392547079407"
            ]
          },
          "execution_count": 34,
          "metadata": {},
          "output_type": "execute_result"
        }
      ],
      "source": [
        "clf.score(x_test,y_test)"
      ]
    },
    {
      "cell_type": "code",
      "execution_count": 35,
      "metadata": {},
      "outputs": [],
      "source": [
        "from sklearn.ensemble import RandomForestRegressor # Instantiate model with 1000 decision trees\n",
        "rf = RandomForestRegressor(n_estimators = 100, random_state = 15)# Train the model on training data"
      ]
    },
    {
      "cell_type": "code",
      "execution_count": 36,
      "metadata": {},
      "outputs": [
        {
          "data": {
            "text/plain": [
              "RandomForestRegressor(random_state=15)"
            ]
          },
          "execution_count": 36,
          "metadata": {},
          "output_type": "execute_result"
        }
      ],
      "source": [
        "rf.fit(x_train, y_train)"
      ]
    },
    {
      "cell_type": "code",
      "execution_count": 37,
      "metadata": {},
      "outputs": [
        {
          "data": {
            "text/plain": [
              "0.8997725028151755"
            ]
          },
          "execution_count": 37,
          "metadata": {},
          "output_type": "execute_result"
        }
      ],
      "source": [
        "rf.score(x_test,y_test)"
      ]
    }
  ],
  "metadata": {
    "colab": {
      "authorship_tag": "ABX9TyPpkiRB4Onut3m4g01jnMs4",
      "collapsed_sections": [],
      "include_colab_link": true,
      "name": "ml lets goo.ipynb",
      "provenance": []
    },
    "kernelspec": {
      "display_name": "Python 3.7.0 32-bit",
      "language": "python",
      "name": "python3"
    },
    "language_info": {
      "codemirror_mode": {
        "name": "ipython",
        "version": 3
      },
      "file_extension": ".py",
      "mimetype": "text/x-python",
      "name": "python",
      "nbconvert_exporter": "python",
      "pygments_lexer": "ipython3",
      "version": "3.7.0"
    },
    "vscode": {
      "interpreter": {
        "hash": "fbe58ca63fe33f9eeae9e71d10368d2b4a57f2b1b395836210cc60d362c66949"
      }
    }
  },
  "nbformat": 4,
  "nbformat_minor": 0
}
